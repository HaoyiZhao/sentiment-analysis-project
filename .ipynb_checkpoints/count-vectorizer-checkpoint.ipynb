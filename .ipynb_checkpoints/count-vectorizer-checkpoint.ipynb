{
 "cells": [
  {
   "cell_type": "code",
   "execution_count": 12,
   "metadata": {},
   "outputs": [],
   "source": [
    "import sklearn\n",
    "import pandas as pd\n",
    "from sklearn.feature_extraction.text import CountVectorizer\n",
    "from sklearn.model_selection import GridSearchCV\n",
    "from sklearn.model_selection import PredefinedSplit\n",
    "import sklearn.metrics\n",
    "import sklearn.naive_bayes\n",
    "import sklearn.tree\n",
    "import sklearn.svm\n",
    "import numpy as np\n",
    "\n",
    "# read datasets from csv files, first column is review, second column is rating/sentiment \n",
    "imdb_training_data = pd.read_csv('IMDB-train.txt', sep = \"\\t\", header = None)\n",
    "imdb_validation_data = pd.read_csv('IMDB-valid.txt', sep = \"\\t\", header = None)\n",
    "imdb_test_data = pd.read_csv('IMDB-test.txt', sep = \"\\t\", header = None)\n",
    "\n",
    "# yelp_training_data = pd.read_csv('yelp-train.txt', sep = \"\\t\", header = None)\n",
    "# yelp_validation_data = pd.read_csv('yelp-valid.txt', sep = \"\\t\", header = None)\n",
    "# yelp_test_data = pd.read_csv('yelp-test.txt', sep = \"\\t\", header = None)\n",
    "    \n",
    "imdb_train_reviews, imdb_train_labels = imdb_training_data[0],imdb_training_data[1]\n",
    "imdb_valid_reviews, imdb_valid_labels = imdb_validation_data[0], imdb_validation_data[1]\n",
    "imdb_test_reviews, imdb_test_labels = imdb_test_data[0], imdb_test_data[1]\n",
    "    \n",
    "countVectorizer = CountVectorizer(max_features = 10000)\n",
    "\n",
    "vectorized_train_data = countVectorizer.fit_transform(imdb_train_reviews)\n",
    "vectorized_train_data = vectorized_train_data.toarray()\n",
    "vectorized_valid_data = countVectorizer.transform(imdb_valid_reviews)\n",
    "vectorized_valid_data = vectorized_valid_data.toarray()\n",
    "vectorized_test_data = countVectorizer.transform(imdb_test_reviews)\n",
    "vectorized_test_data = vectorized_test_data.toarray()"
   ]
  },
  {
   "cell_type": "code",
   "execution_count": 13,
   "metadata": {},
   "outputs": [
    {
     "name": "stdout",
     "output_type": "stream",
     "text": [
      "PredefinedSplit(test_fold=array([-1, -1, ...,  0,  0]))\n"
     ]
    }
   ],
   "source": [
    "# Predefine split for training and validation data, for use when cross validating\n",
    "ps = PredefinedSplit([-1 for s in vectorized_train_data] + [0 for s in vectorized_valid_data])\n",
    "\n",
    "# Hypertune for Gaussian Naive Bayes on imdb\n",
    "parameters = {'var_smoothing':np.linspace(1,5,50)}\n",
    "clf = sklearn.naive_bayes.GaussianNB()\n",
    "grid_gnb = GridSearchCV(clf, parameters, cv=ps, refit=False)\n",
    "grid_bnb.fit(vectorized_train_data + vectorized_valid_data, imdb_train_labels + imdb_valid_labels)\n",
    "print(\"Best estimator for Gaussian Naive Bayes:\", grid_bnb.best_estimator_)\n",
    "\n",
    "clf.set_params(**grid_bnb.best_parms)\n",
    "clf.fit(vectorized_train_data, imdb_train_labels)\n",
    "\n",
    "\n",
    "print(gaussian_naive_bayes.score(count_test_Xs, coarse_test_y))\n",
    "print(gaussian_naive_bayes.best_params_)\n",
    "\n",
    "\n",
    "\n",
    "\n"
   ]
  },
  {
   "cell_type": "code",
   "execution_count": null,
   "metadata": {},
   "outputs": [],
   "source": []
  }
 ],
 "metadata": {
  "kernelspec": {
   "display_name": "Python 3",
   "language": "python",
   "name": "python3"
  },
  "language_info": {
   "codemirror_mode": {
    "name": "ipython",
    "version": 3
   },
   "file_extension": ".py",
   "mimetype": "text/x-python",
   "name": "python",
   "nbconvert_exporter": "python",
   "pygments_lexer": "ipython3",
   "version": "3.7.0"
  }
 },
 "nbformat": 4,
 "nbformat_minor": 2
}
